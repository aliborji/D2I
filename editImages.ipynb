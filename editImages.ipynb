{
 "cells": [
  {
   "cell_type": "code",
   "execution_count": 3,
   "id": "72f11c12-a570-4f01-a30c-87eae1fc8743",
   "metadata": {},
   "outputs": [],
   "source": [
    "import os\n",
    "import cv2"
   ]
  },
  {
   "cell_type": "code",
   "execution_count": 123,
   "id": "4bba20f8-dbc3-43be-9ab3-f9e5a722ad26",
   "metadata": {},
   "outputs": [
    {
     "data": {
      "text/plain": [
       "'0010'"
      ]
     },
     "execution_count": 123,
     "metadata": {},
     "output_type": "execute_result"
    }
   ],
   "source": [
    "'10'.zfill(4)"
   ]
  },
  {
   "cell_type": "code",
   "execution_count": 147,
   "id": "9831f48d-d7cb-44fb-b60f-feb301084d86",
   "metadata": {},
   "outputs": [
    {
     "data": {
      "text/plain": [
       "176"
      ]
     },
     "execution_count": 147,
     "metadata": {},
     "output_type": "execute_result"
    }
   ],
   "source": [
    "len(files)"
   ]
  },
  {
   "cell_type": "code",
   "execution_count": 146,
   "id": "692f4577-fcad-4531-a6cd-4bb33b5fc11c",
   "metadata": {},
   "outputs": [],
   "source": [
    "pp = '/Users/aliborji/Documents/DB_NewDB/xx/person'\n",
    "files = os.listdir(f'{pp}')\n"
   ]
  },
  {
   "cell_type": "code",
   "execution_count": 148,
   "id": "f1b16ea9-df0b-4a08-8e4a-32f15cd5cfb0",
   "metadata": {},
   "outputs": [],
   "source": [
    "\n",
    "c = 1\n",
    "for f in files:\n",
    "    if c > 1217: break\n",
    "    if f.startswith('.DS_Store'): continue\n",
    "\n",
    "    print(c)\n",
    "    img = cv2.imread(f'{pp}/{f}')\n",
    "    \n",
    "    # img = cv2.imread(f'{pp}/{f}')\n",
    "    # if img.shape[0] == img.shape[1]== 512:\n",
    "    cv2.imwrite(f'{pp}/{str(c).zfill(4)}.jpeg', img)\n",
    "    \n",
    "    c += 1\n",
    "    \n",
    "    # if img.shape[0] == img.shape[1]== 512:\n",
    "    #     cv2.imwrite(f'{pp}/0{f}', img[:256,:256,:])\n",
    "    #     cv2.imwrite(f'{pp}/1{f}', img[256:,:256,:])\n",
    "    #     cv2.imwrite(f'{pp}/2{f}', img[:256,256:,:])\n",
    "    #     cv2.imwrite(f'{pp}/3{f}', img[256:,256:,:])\n",
    "        \n",
    "    os.remove(f'{pp}/{f}')\n",
    "    # print(img.shape)\n",
    "\n",
    "    \n"
   ]
  },
  {
   "cell_type": "code",
   "execution_count": 127,
   "id": "b66d60fd-7a81-4898-a5e0-ed3ac39f5e3c",
   "metadata": {},
   "outputs": [
    {
     "data": {
      "text/plain": [
       "1452"
      ]
     },
     "execution_count": 127,
     "metadata": {},
     "output_type": "execute_result"
    }
   ],
   "source": [
    "c"
   ]
  },
  {
   "cell_type": "code",
   "execution_count": 87,
   "id": "81950eca-3fab-4d82-8283-e8a87a540a2b",
   "metadata": {},
   "outputs": [],
   "source": [
    "pp = '/Users/aliborji/Documents/tmpp/'\n",
    "files = os.listdir(f'{pp}')"
   ]
  },
  {
   "cell_type": "code",
   "execution_count": 91,
   "id": "8c10cc8e-9fef-4d35-b9f2-e0db858b4a7c",
   "metadata": {},
   "outputs": [],
   "source": [
    "\n",
    "# for f in files:\n",
    "#     if f.startswith('.DS_Store'): continue\n",
    "#     print(f)\n",
    "#     img = cv2.imread(f'{pp}/{f}')\n",
    "#     # if img.shape[0] == img.shape[1]== 512:\n",
    "#     cv2.imwrite(f'{pp}/0{f}', img[500:1500,500:1500,:])\n",
    "\n",
    "#     os.remove(f'{pp}/{f}')\n",
    "#     # print(img.shape)"
   ]
  },
  {
   "cell_type": "code",
   "execution_count": null,
   "id": "35b99527-04d8-42ce-85ff-050d070d0b50",
   "metadata": {},
   "outputs": [],
   "source": []
  },
  {
   "cell_type": "code",
   "execution_count": 86,
   "id": "ca69964e-4e7c-4799-8345-5a8e464cf8e0",
   "metadata": {},
   "outputs": [
    {
     "name": "stdout",
     "output_type": "stream",
     "text": [
      "(2234, 3456, 3)\n"
     ]
    }
   ],
   "source": [
    "print(img.shape)"
   ]
  },
  {
   "cell_type": "code",
   "execution_count": 154,
   "id": "b0a4fcfc-50dc-47ef-9a57-0a859277f4a0",
   "metadata": {},
   "outputs": [],
   "source": [
    "pp = '/Users/aliborji/Desktop/ExtremeDB/D2I/'\n",
    "qq = '/Users/aliborji/Documents/DB_NewDB/'"
   ]
  },
  {
   "cell_type": "code",
   "execution_count": 155,
   "id": "89b36d80-80a1-4e11-ac2f-871b841e2e7a",
   "metadata": {},
   "outputs": [],
   "source": [
    "files = os.listdir(f'{pp}')"
   ]
  },
  {
   "cell_type": "code",
   "execution_count": 156,
   "id": "447bf62d-149d-44cf-891d-e0f869609dfc",
   "metadata": {},
   "outputs": [
    {
     "name": "stdout",
     "output_type": "stream",
     "text": [
      "['spatula', 'helmet', 'sunglass', 'cat', 'toaster', 'bell pepper', 'car', 'tractor', '.DS_Store', 'toilet seat', 'turtle', 'pill bottle', 'mushroom', 'face', 'acorn', 'person', 'bicycle-built-for-two', 'giraffe', 'bagel', 'basketball', 'miscellaneous', 'vase', 'mouse', 'pillow', 'sock', 'syringe', 'umbrella', 'kite', 'rabbit', 'banana', 'pizza', 'squirrel', 'cow', 'clock', 'pretzel', 'teddy', 'elephant']\n"
     ]
    }
   ],
   "source": [
    "print(files)"
   ]
  },
  {
   "cell_type": "code",
   "execution_count": 171,
   "id": "48034fdf-ad58-49c4-bb92-5795a65d61c1",
   "metadata": {},
   "outputs": [
    {
     "name": "stdout",
     "output_type": "stream",
     "text": [
      "spatula 123 123\n",
      "helmet 214 214\n",
      "sunglass 119 119\n",
      "cat 408 408\n",
      "toaster 138 138\n",
      "bell pepper 112 112\n",
      "car 540 540\n",
      "tractor 151 151\n",
      "toilet seat 124 124\n",
      "turtle 232 232\n",
      "pill bottle 110 110\n",
      "mushroom 241 241\n",
      "face 290 290\n",
      "acorn 152 152\n",
      "person 1217 1218\n",
      "bicycle-built-for-two 90 90\n",
      "giraffe 139 139\n",
      "bagel 114 114\n",
      "basketball 120 120\n",
      "miscellaneous 578 578\n",
      "vase 160 160\n",
      "mouse 136 136\n",
      "pillow 131 131\n",
      "sock 129 129\n",
      "syringe 122 122\n",
      "umbrella 187 187\n",
      "kite 128 128\n",
      "rabbit 323 323\n",
      "banana 111 111\n",
      "pizza 144 144\n",
      "squirrel 151 151\n",
      "cow 393 393\n",
      "clock 184 184\n",
      "pretzel 117 117\n",
      "teddy 221 221\n",
      "elephant 204 204\n"
     ]
    }
   ],
   "source": [
    "for i in files:\n",
    "    if i.startswith('.DS_Store'): continue\n",
    "    print(i, len(os.listdir(f'{qq}{i}')), len(os.listdir(f'{pp}{i}')))\n",
    "    xx = os.listdir(f'{pp}{i}')\n",
    "    if '.DS_Store' in xx:\n",
    "        xx.remove('.DS_Store')\n",
    "    \n",
    "    yy = os.listdir(f'{qq}{i}')\n",
    "    if '.DS_Store' in yy:\n",
    "        yy.remove('.DS_Store')\n",
    "\n",
    "    assert len(xx) == len(yy)\n",
    "    # print(i, len(os.listdir(f'{pp}{i}')))"
   ]
  },
  {
   "cell_type": "code",
   "execution_count": 168,
   "id": "cbfa87a4-07d5-411d-bb7a-45c6d04d3716",
   "metadata": {},
   "outputs": [
    {
     "data": {
      "text/plain": [
       "1217"
      ]
     },
     "execution_count": 168,
     "metadata": {},
     "output_type": "execute_result"
    }
   ],
   "source": [
    "xx = os.listdir(f'{pp}{i}')\n",
    "xx.remove('.DS_Store')\n",
    "len(xx)"
   ]
  },
  {
   "cell_type": "code",
   "execution_count": null,
   "id": "3007d441-6173-423f-b2a9-8c9da7d6e845",
   "metadata": {},
   "outputs": [],
   "source": []
  }
 ],
 "metadata": {
  "kernelspec": {
   "display_name": "Python 3 (ipykernel)",
   "language": "python",
   "name": "python3"
  },
  "language_info": {
   "codemirror_mode": {
    "name": "ipython",
    "version": 3
   },
   "file_extension": ".py",
   "mimetype": "text/x-python",
   "name": "python",
   "nbconvert_exporter": "python",
   "pygments_lexer": "ipython3",
   "version": "3.9.7"
  }
 },
 "nbformat": 4,
 "nbformat_minor": 5
}
